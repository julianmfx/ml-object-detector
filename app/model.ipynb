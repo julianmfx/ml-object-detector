{
 "cells": [
  {
   "cell_type": "markdown",
   "id": "5f439f12",
   "metadata": {},
   "source": [
    "# Import libraries"
   ]
  },
  {
   "cell_type": "code",
   "execution_count": 1,
   "id": "a4100324",
   "metadata": {},
   "outputs": [],
   "source": [
    "from pathlib import Path\n",
    "from config.load_config import load_config"
   ]
  },
  {
   "cell_type": "markdown",
   "id": "03cb2d40",
   "metadata": {},
   "source": [
    "# Create enviroment variables"
   ]
  },
  {
   "cell_type": "code",
   "execution_count": 4,
   "id": "b3e82af9",
   "metadata": {},
   "outputs": [],
   "source": [
    "cfg = load_config()"
   ]
  },
  {
   "cell_type": "code",
   "execution_count": 5,
   "id": "75bff59f",
   "metadata": {},
   "outputs": [
    {
     "name": "stdout",
     "output_type": "stream",
     "text": [
      "/home/julian/Documents/Julian/ML_Engineer/repos/ml-object-detector\n",
      "/home/julian/Documents/Julian/ML_Engineer/repos/ml-object-detector/output_images\n"
     ]
    }
   ],
   "source": [
    "BASE_DIR = Path(cfg[\"base_dir\"]).resolve()\n",
    "print(BASE_DIR)\n",
    "OUTPUT_DIR = BASE_DIR / cfg[\"output_subdir\"]\n",
    "print(OUTPUT_DIR)"
   ]
  },
  {
   "cell_type": "markdown",
   "id": "738e197e",
   "metadata": {},
   "source": [
    "# Create folder to output images"
   ]
  },
  {
   "cell_type": "code",
   "execution_count": null,
   "id": "0f9444e4",
   "metadata": {},
   "outputs": [],
   "source": [
    "OUTPUT_DIR.mkdir(parents=True, exist_ok=True)"
   ]
  }
 ],
 "metadata": {
  "kernelspec": {
   "display_name": "venv",
   "language": "python",
   "name": "python3"
  },
  "language_info": {
   "codemirror_mode": {
    "name": "ipython",
    "version": 3
   },
   "file_extension": ".py",
   "mimetype": "text/x-python",
   "name": "python",
   "nbconvert_exporter": "python",
   "pygments_lexer": "ipython3",
   "version": "3.12.3"
  }
 },
 "nbformat": 4,
 "nbformat_minor": 5
}
